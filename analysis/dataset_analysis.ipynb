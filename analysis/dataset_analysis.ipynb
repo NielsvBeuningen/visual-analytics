{
 "cells": [
  {
   "cell_type": "code",
   "execution_count": 1,
   "metadata": {},
   "outputs": [
    {
     "name": "stderr",
     "output_type": "stream",
     "text": [
      "c:\\Users\\Beheerder\\Documents\\Prive\\University\\Msc\\Year2\\Q4\\Visual Analytics\\Project\\visual-analytics\\.visual-analytics\\Lib\\site-packages\\tqdm\\auto.py:21: TqdmWarning: IProgress not found. Please update jupyter and ipywidgets. See https://ipywidgets.readthedocs.io/en/stable/user_install.html\n",
      "  from .autonotebook import tqdm as notebook_tqdm\n"
     ]
    }
   ],
   "source": [
    "from ydata_profiling import ProfileReport\n",
    "import pandas as pd"
   ]
  },
  {
   "cell_type": "code",
   "execution_count": 2,
   "metadata": {},
   "outputs": [
    {
     "name": "stderr",
     "output_type": "stream",
     "text": [
      "Summarize dataset: 100%|██████████| 562/562 [00:48<00:00, 11.58it/s, Completed]                                                                     \n",
      "Generate report structure: 100%|██████████| 1/1 [00:05<00:00,  5.19s/it]\n",
      "Render HTML: 100%|██████████| 1/1 [00:09<00:00,  9.79s/it]\n",
      "Export report to file: 100%|██████████| 1/1 [00:00<00:00,  7.66it/s]\n"
     ]
    }
   ],
   "source": [
    "heloc_data = pd.read_csv('data/heloc_dataset_v1.csv')\n",
    "profile = ProfileReport(heloc_data, title='HELOC Data Profiling Report', explorative=True)\n",
    "\n",
    "profile.to_file('data/heloc_data_profiling_report.html')"
   ]
  }
 ],
 "metadata": {
  "kernelspec": {
   "display_name": ".visual-analytics",
   "language": "python",
   "name": "python3"
  },
  "language_info": {
   "codemirror_mode": {
    "name": "ipython",
    "version": 3
   },
   "file_extension": ".py",
   "mimetype": "text/x-python",
   "name": "python",
   "nbconvert_exporter": "python",
   "pygments_lexer": "ipython3",
   "version": "3.12.2"
  }
 },
 "nbformat": 4,
 "nbformat_minor": 2
}
