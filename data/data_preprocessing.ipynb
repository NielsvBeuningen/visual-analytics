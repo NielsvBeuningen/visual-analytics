{
 "cells": [
  {
   "cell_type": "code",
   "execution_count": 74,
   "metadata": {},
   "outputs": [],
   "source": [
    "import pandas as pd\n",
    "import numpy as np"
   ]
  },
  {
   "cell_type": "code",
   "execution_count": 75,
   "metadata": {},
   "outputs": [],
   "source": [
    "df = pd.read_csv('heloc_dataset_v1.csv')\n",
    "df.replace(-9, np.nan, inplace=True)\n",
    "df.replace(-8, np.nan, inplace=True)\n",
    "df.replace(-7, np.nan, inplace=True)"
   ]
  },
  {
   "cell_type": "code",
   "execution_count": 76,
   "metadata": {},
   "outputs": [
    {
     "data": {
      "text/plain": [
       "(10459, 24)"
      ]
     },
     "execution_count": 76,
     "metadata": {},
     "output_type": "execute_result"
    }
   ],
   "source": [
    "df.shape"
   ]
  },
  {
   "cell_type": "code",
   "execution_count": 77,
   "metadata": {},
   "outputs": [
    {
     "data": {
      "text/plain": [
       "(10459, 18)"
      ]
     },
     "execution_count": 77,
     "metadata": {},
     "output_type": "execute_result"
    }
   ],
   "source": [
    "# Define the threshold for non-missing values\n",
    "threshold = len(df) - 0.075 * df.shape[0]\n",
    "#774\n",
    "\n",
    "# Drop columns with more than 600 missing values\n",
    "df_cleaned_2 = df.dropna(axis=1, thresh=threshold)\n",
    "df_cleaned_2.shape"
   ]
  },
  {
   "cell_type": "code",
   "execution_count": 78,
   "metadata": {},
   "outputs": [
    {
     "data": {
      "text/plain": [
       "['NumBank/NatlTradesWHighUtilization',\n",
       " 'MSinceOldestTradeOpen',\n",
       " 'MSinceMostRecentInqexcl7days',\n",
       " 'NumInstallTradesWBalance',\n",
       " 'NetFractionInstallBurden',\n",
       " 'MSinceMostRecentDelq']"
      ]
     },
     "execution_count": 78,
     "metadata": {},
     "output_type": "execute_result"
    }
   ],
   "source": [
    "all_columns = list(df.columns)\n",
    "remaining_columns = list(df_cleaned_2.columns)\n",
    "deleted_columns = list(set(all_columns) - set(remaining_columns))\n",
    "deleted_columns"
   ]
  },
  {
   "cell_type": "code",
   "execution_count": 79,
   "metadata": {},
   "outputs": [],
   "source": [
    "df_cleaned_2 = df_cleaned_2.drop(columns = [\"MaxDelq/PublicRecLast12M\", \"MaxDelqEver\"], axis = 1)"
   ]
  },
  {
   "cell_type": "code",
   "execution_count": 80,
   "metadata": {},
   "outputs": [
    {
     "data": {
      "text/plain": [
       "(10459, 16)"
      ]
     },
     "execution_count": 80,
     "metadata": {},
     "output_type": "execute_result"
    }
   ],
   "source": [
    "df_cleaned_2.shape"
   ]
  },
  {
   "cell_type": "code",
   "execution_count": 81,
   "metadata": {},
   "outputs": [],
   "source": [
    "df_cleaned_2 = df_cleaned_2.dropna()"
   ]
  },
  {
   "cell_type": "code",
   "execution_count": 82,
   "metadata": {},
   "outputs": [
    {
     "data": {
      "text/plain": [
       "(9682, 16)"
      ]
     },
     "execution_count": 82,
     "metadata": {},
     "output_type": "execute_result"
    }
   ],
   "source": [
    "df_cleaned_2.shape"
   ]
  },
  {
   "cell_type": "code",
   "execution_count": 83,
   "metadata": {},
   "outputs": [
    {
     "data": {
      "text/plain": [
       "92.57099149058227"
      ]
     },
     "execution_count": 83,
     "metadata": {},
     "output_type": "execute_result"
    }
   ],
   "source": [
    "df_cleaned_2.shape[0]/df.shape[0] * 100"
   ]
  },
  {
   "cell_type": "code",
   "execution_count": 84,
   "metadata": {},
   "outputs": [],
   "source": [
    "df_cleaned_2.to_csv('heloc_dataset_v4.csv', index=False)"
   ]
  },
  {
   "cell_type": "code",
   "execution_count": 85,
   "metadata": {},
   "outputs": [
    {
     "name": "stdout",
     "output_type": "stream",
     "text": [
      "The CSV file does not contain any missing values.\n"
     ]
    }
   ],
   "source": [
    "df_2 = pd.read_csv('heloc_dataset_v4.csv')\n",
    "missing_values = df_2.isnull().sum().sum()\n",
    "if missing_values == 0:\n",
    "    print(\"The CSV file does not contain any missing values.\")\n",
    "else:\n",
    "    print(f\"The CSV file contains {missing_values} missing values.\")"
   ]
  }
 ],
 "metadata": {
  "kernelspec": {
   "display_name": "visual_analytics",
   "language": "python",
   "name": "python3"
  },
  "language_info": {
   "codemirror_mode": {
    "name": "ipython",
    "version": 3
   },
   "file_extension": ".py",
   "mimetype": "text/x-python",
   "name": "python",
   "nbconvert_exporter": "python",
   "pygments_lexer": "ipython3",
   "version": "3.12.3"
  }
 },
 "nbformat": 4,
 "nbformat_minor": 2
}
