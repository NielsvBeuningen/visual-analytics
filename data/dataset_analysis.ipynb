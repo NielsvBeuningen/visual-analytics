{
 "cells": [
  {
   "cell_type": "code",
   "execution_count": 1,
   "metadata": {},
   "outputs": [
    {
     "name": "stderr",
     "output_type": "stream",
     "text": [
      "c:\\Users\\20202507\\Anaconda3\\envs\\visual_analytics\\Lib\\site-packages\\tqdm\\auto.py:21: TqdmWarning: IProgress not found. Please update jupyter and ipywidgets. See https://ipywidgets.readthedocs.io/en/stable/user_install.html\n",
      "  from .autonotebook import tqdm as notebook_tqdm\n"
     ]
    }
   ],
   "source": [
    "from ydata_profiling import ProfileReport\n",
    "import pandas as pd"
   ]
  },
  {
   "cell_type": "code",
   "execution_count": 4,
   "metadata": {},
   "outputs": [],
   "source": [
    "# heloc_data = pd.read_csv('heloc_dataset_v1.csv')\n",
    "# profile = ProfileReport(heloc_data, title='HELOC Data Profiling Report', explorative=True)\n",
    "\n",
    "# profile.to_file('heloc_data_profiling_report.html')"
   ]
  },
  {
   "cell_type": "code",
   "execution_count": 7,
   "metadata": {},
   "outputs": [
    {
     "name": "stderr",
     "output_type": "stream",
     "text": [
      "Summarize dataset: 100%|██████████| 316/316 [01:27<00:00,  3.61it/s, Completed]                                                       \n",
      "Generate report structure: 100%|██████████| 1/1 [00:16<00:00, 16.78s/it]\n",
      "Render HTML: 100%|██████████| 1/1 [00:25<00:00, 25.55s/it]\n",
      "Export report to file: 100%|██████████| 1/1 [00:00<00:00, 10.85it/s]\n"
     ]
    }
   ],
   "source": [
    "heloc_data = pd.read_csv('heloc_dataset_v4.csv')\n",
    "profile = ProfileReport(heloc_data, title='HELOC Data Profiling Report- v2', explorative=True)\n",
    "\n",
    "profile.to_file('heloc_data_profiling_report_v4.html')"
   ]
  }
 ],
 "metadata": {
  "kernelspec": {
   "display_name": ".visual-analytics",
   "language": "python",
   "name": "python3"
  },
  "language_info": {
   "codemirror_mode": {
    "name": "ipython",
    "version": 3
   },
   "file_extension": ".py",
   "mimetype": "text/x-python",
   "name": "python",
   "nbconvert_exporter": "python",
   "pygments_lexer": "ipython3",
   "version": "3.12.3"
  }
 },
 "nbformat": 4,
 "nbformat_minor": 2
}
